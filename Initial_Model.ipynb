{
  "nbformat": 4,
  "nbformat_minor": 0,
  "metadata": {
    "colab": {
      "provenance": []
    },
    "kernelspec": {
      "name": "python3",
      "display_name": "Python 3"
    },
    "language_info": {
      "name": "python"
    }
  },
  "cells": [
    {
      "cell_type": "markdown",
      "source": [
        "#Import Dependencies"
      ],
      "metadata": {
        "id": "BF5zvT8yDW0y"
      }
    },
    {
      "cell_type": "code",
      "execution_count": 7,
      "metadata": {
        "id": "bXymCAamDTkm"
      },
      "outputs": [],
      "source": [
        "import tensorflow as tf\n",
        "import hashlib"
      ]
    },
    {
      "cell_type": "markdown",
      "source": [
        "#Initialize Variable"
      ],
      "metadata": {
        "id": "QuJyKAubEX-P"
      }
    },
    {
      "cell_type": "code",
      "source": [
        "#@title param\n",
        "img_height = 384 #@param {type:\"integer\"}\n",
        "img_width = 384 #@param {type:\"integer\"}\n",
        "num_classes = 2 #@param {type:\"integer\"}\n",
        "img_size = (img_height, img_width)\n",
        "img_shape = (img_height, img_width, 3)"
      ],
      "metadata": {
        "id": "9ZgM7RmtEDmN"
      },
      "execution_count": 8,
      "outputs": []
    },
    {
      "cell_type": "markdown",
      "source": [
        "#build model"
      ],
      "metadata": {
        "id": "UPIGO0FkEupO"
      }
    },
    {
      "cell_type": "code",
      "source": [
        "from tensorflow.keras import layers\n",
        "\n",
        "base_model = tf.keras.applications.efficientnet_v2.EfficientNetV2B0(\n",
        "    input_shape = img_shape,\n",
        "    include_top = False,\n",
        "    weights='imagenet',\n",
        "    pooling='avg'\n",
        ")\n",
        "\n",
        "base_model.trainable = False\n",
        "\n",
        "inputs = layers.Input(shape=img_shape)\n",
        "x = layers.RandomFlip()(inputs)\n",
        "x = layers.RandomRotation(factor=0.2, interpolation='nearest')(x)\n",
        "x = layers.RandomZoom(height_factor = (-0.2, 0.2), width_factor = (-0.2, 0.2), interpolation = 'nearest')(x)\n",
        "x = base_model(x, training=False)\n",
        "x = layers.Dropout(0.2)(x)\n",
        "outputs = layers.Dense(num_classes)(x)\n",
        "model = tf.keras.Model(inputs, outputs)\n"
      ],
      "metadata": {
        "id": "1xGojLXbEplc"
      },
      "execution_count": 9,
      "outputs": []
    },
    {
      "cell_type": "code",
      "source": [
        "model.summary()"
      ],
      "metadata": {
        "colab": {
          "base_uri": "https://localhost:8080/"
        },
        "id": "IVRT-LDsHf8v",
        "outputId": "a12985dd-67bd-49f4-dc15-323599d9d77d"
      },
      "execution_count": 10,
      "outputs": [
        {
          "output_type": "stream",
          "name": "stdout",
          "text": [
            "Model: \"model_1\"\n",
            "_________________________________________________________________\n",
            " Layer (type)                Output Shape              Param #   \n",
            "=================================================================\n",
            " input_4 (InputLayer)        [(None, 384, 384, 3)]     0         \n",
            "                                                                 \n",
            " random_flip_1 (RandomFlip)  (None, 384, 384, 3)       0         \n",
            "                                                                 \n",
            " random_rotation_1 (RandomRo  (None, 384, 384, 3)      0         \n",
            " tation)                                                         \n",
            "                                                                 \n",
            " random_zoom_1 (RandomZoom)  (None, 384, 384, 3)       0         \n",
            "                                                                 \n",
            " efficientnetv2-b0 (Function  (None, 1280)             5919312   \n",
            " al)                                                             \n",
            "                                                                 \n",
            " dropout_1 (Dropout)         (None, 1280)              0         \n",
            "                                                                 \n",
            " dense_1 (Dense)             (None, 2)                 2562      \n",
            "                                                                 \n",
            "=================================================================\n",
            "Total params: 5,921,874\n",
            "Trainable params: 2,562\n",
            "Non-trainable params: 5,919,312\n",
            "_________________________________________________________________\n"
          ]
        }
      ]
    },
    {
      "cell_type": "markdown",
      "source": [
        "#Save Model"
      ],
      "metadata": {
        "id": "kX1_AfIIPZCq"
      }
    },
    {
      "cell_type": "code",
      "source": [
        "model.save(\"/content/drive/MyDrive/tugas_akhir/Model/Pneumonia_detect_initial.h5\")"
      ],
      "metadata": {
        "colab": {
          "base_uri": "https://localhost:8080/"
        },
        "id": "tx-uZEt-K39r",
        "outputId": "cdb2674f-9ecd-474f-e95d-ed7807486ab5"
      },
      "execution_count": 11,
      "outputs": [
        {
          "output_type": "stream",
          "name": "stderr",
          "text": [
            "WARNING:tensorflow:Compiled the loaded model, but the compiled metrics have yet to be built. `model.compile_metrics` will be empty until you train or evaluate the model.\n"
          ]
        }
      ]
    },
    {
      "cell_type": "markdown",
      "source": [
        "#Generate SHA256 of Model"
      ],
      "metadata": {
        "id": "XJhe9ksNPcVE"
      }
    },
    {
      "cell_type": "code",
      "source": [
        "import hashlib\n",
        "\n",
        "filename = \"/content/drive/MyDrive/tugas_akhir/Model/Pneumonia_detect_initial.h5\"\n",
        "with open(filename,\"rb\") as f:\n",
        "  bytes = f.read() # read entire file as bytes\n",
        "  readable_hash = hashlib.sha256(bytes).hexdigest();\n",
        "\n",
        "print(readable_hash)"
      ],
      "metadata": {
        "colab": {
          "base_uri": "https://localhost:8080/"
        },
        "id": "Q9DBESkTLRkT",
        "outputId": "e3040ab6-ba90-4d83-88c4-ca6ec22ab43d"
      },
      "execution_count": 12,
      "outputs": [
        {
          "output_type": "stream",
          "name": "stdout",
          "text": [
            "bb35aba0bc6829ee249b63bece4f5e50f33182e01cab0ecb3d3874559c3f708a\n"
          ]
        }
      ]
    }
  ]
}