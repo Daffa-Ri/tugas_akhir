{
  "nbformat": 4,
  "nbformat_minor": 0,
  "metadata": {
    "colab": {
      "provenance": []
    },
    "kernelspec": {
      "name": "python3",
      "display_name": "Python 3"
    },
    "language_info": {
      "name": "python"
    }
  },
  "cells": [
    {
      "cell_type": "markdown",
      "source": [
        "#Download Repo"
      ],
      "metadata": {
        "id": "QTIUhM-8b0-P"
      }
    },
    {
      "cell_type": "code",
      "execution_count": null,
      "metadata": {
        "id": "nkgIlzqrZhCc"
      },
      "outputs": [],
      "source": [
        "!git clone https://github.com/Daffa-Ri/tugas_akhir.git"
      ]
    },
    {
      "cell_type": "markdown",
      "source": [
        "#Install Requirements"
      ],
      "metadata": {
        "id": "ysS5tLO5cG5l"
      }
    },
    {
      "cell_type": "code",
      "source": [
        "!pip install -r \"tugas_akhir/requirements.txt\""
      ],
      "metadata": {
        "id": "O2MydlaJadko"
      },
      "execution_count": null,
      "outputs": []
    },
    {
      "cell_type": "markdown",
      "source": [
        "#Run UI"
      ],
      "metadata": {
        "id": "Wa03hHFacXmc"
      }
    },
    {
      "cell_type": "code",
      "source": [
        "!python \"tugas_akhir/app.py\" -s True"
      ],
      "metadata": {
        "id": "gpkCVIfwatB6"
      },
      "execution_count": null,
      "outputs": []
    }
  ]
}