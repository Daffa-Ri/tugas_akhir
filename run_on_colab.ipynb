{
  "nbformat": 4,
  "nbformat_minor": 0,
  "metadata": {
    "colab": {
      "provenance": []
    },
    "kernelspec": {
      "name": "python3",
      "display_name": "Python 3"
    },
    "language_info": {
      "name": "python"
    }
  },
  "cells": [
    {
      "cell_type": "markdown",
      "source": [
        "#Download Repo"
      ],
      "metadata": {
        "id": "QTIUhM-8b0-P"
      }
    },
    {
      "cell_type": "code",
      "execution_count": null,
      "metadata": {
        "id": "nkgIlzqrZhCc"
      },
      "outputs": [],
      "source": [
        "!git clone https://github.com/Daffa-Ri/tugas_akhir.git"
      ]
    },
    {
      "cell_type": "markdown",
      "source": [
        "#Install Requirements"
      ],
      "metadata": {
        "id": "ysS5tLO5cG5l"
      }
    },
    {
      "cell_type": "code",
      "source": [
        "!pip install -r \"tugas_akhir/requirements.txt\""
      ],
      "metadata": {
        "id": "O2MydlaJadko"
      },
      "execution_count": null,
      "outputs": []
    },
    {
      "cell_type": "markdown",
      "source": [
        "#Copy and Checking Dataset"
      ],
      "metadata": {
        "id": "0EJrhhztcNZm"
      }
    },
    {
      "cell_type": "code",
      "source": [
        "!cp -r \"/content/drive/MyDrive/Dataset/Dataset/Skenario1/\" \"/content/Skenario1\""
      ],
      "metadata": {
        "id": "uPZISgxlcSgu"
      },
      "execution_count": null,
      "outputs": []
    },
    {
      "cell_type": "code",
      "source": [
        "!find \"/content/Skenario1/train\" -type f | wc -l\n",
        "!find \"/content/Skenario1/test\" -type f | wc -l\n",
        "!find \"/content/Skenario1/val\" -type f | wc -l"
      ],
      "metadata": {
        "id": "b873AdU8cVMF"
      },
      "execution_count": null,
      "outputs": []
    },
    {
      "cell_type": "markdown",
      "source": [
        "#Run UI"
      ],
      "metadata": {
        "id": "Wa03hHFacXmc"
      }
    },
    {
      "cell_type": "code",
      "source": [
        "!python \"tugas_akhir/app.py\" -s True"
      ],
      "metadata": {
        "id": "gpkCVIfwatB6"
      },
      "execution_count": null,
      "outputs": []
    }
  ]
}